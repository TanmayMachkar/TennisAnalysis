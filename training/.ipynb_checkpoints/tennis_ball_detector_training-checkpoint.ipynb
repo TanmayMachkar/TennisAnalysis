{
 "cells": [
  {
   "cell_type": "code",
   "execution_count": 2,
   "id": "65489f1f-a451-44bc-9867-803ecba4c5a3",
   "metadata": {},
   "outputs": [
    {
     "name": "stdout",
     "output_type": "stream",
     "text": [
      "loading Roboflow workspace...\n",
      "loading Roboflow project...\n"
     ]
    },
    {
     "name": "stderr",
     "output_type": "stream",
     "text": [
      "Downloading Dataset Version Zip in tennis-ball-detection-6 to yolov5pytorch:: 100%|█| 52040/52040 [00:24<00:00, 2102.41"
     ]
    },
    {
     "name": "stdout",
     "output_type": "stream",
     "text": [
      "\n"
     ]
    },
    {
     "name": "stderr",
     "output_type": "stream",
     "text": [
      "\n",
      "Extracting Dataset Version Zip to tennis-ball-detection-6 in yolov5pytorch:: 100%|█| 1168/1168 [00:02<00:00, 404.36it/s\n"
     ]
    }
   ],
   "source": [
    "from roboflow import Roboflow\n",
    "rf = Roboflow(api_key=\"3xlvwN4seI5aWCMzAiy6\")\n",
    "project = rf.workspace(\"viren-dhanwani\").project(\"tennis-ball-detection\")\n",
    "version = project.version(6)\n",
    "dataset = version.download(\"yolov5\")"
   ]
  },
  {
   "cell_type": "code",
   "execution_count": 3,
   "id": "866fd452-7372-4437-ad11-4eb8c0bdd51e",
   "metadata": {},
   "outputs": [],
   "source": [
    "import shutil"
   ]
  },
  {
   "cell_type": "code",
   "execution_count": 4,
   "id": "7076626f-c77d-4a1a-9ef5-9439141397dc",
   "metadata": {},
   "outputs": [
    {
     "data": {
      "text/plain": [
       "'tennis-ball-detection-6/tennis-ball-detection-6/valid'"
      ]
     },
     "execution_count": 4,
     "metadata": {},
     "output_type": "execute_result"
    }
   ],
   "source": [
    "shutil.move('tennis-ball-detection-6/train',\n",
    "            'tennis-ball-detection-6/tennis-ball-detection-6/train'\n",
    ")\n",
    "\n",
    "shutil.move('tennis-ball-detection-6/test',\n",
    "            'tennis-ball-detection-6/tennis-ball-detection-6/test'\n",
    ")\n",
    "\n",
    "shutil.move('tennis-ball-detection-6/valid',\n",
    "            'tennis-ball-detection-6/tennis-ball-detection-6/valid'\n",
    ")"
   ]
  },
  {
   "cell_type": "code",
   "execution_count": null,
   "id": "ec5a02e9-0071-42a1-baa7-db9528326700",
   "metadata": {},
   "outputs": [],
   "source": [
    "!yolo detect train model=yolov5n.pt data=\"C:/Users/Admin/Tennis Analysis/training/tennis-ball-detection-6/data.yaml\" epochs=100 imgsz=640"
   ]
  },
  {
   "cell_type": "code",
   "execution_count": null,
   "id": "7796c8e6-e40c-4f33-8074-c51c142d9283",
   "metadata": {},
   "outputs": [],
   "source": []
  }
 ],
 "metadata": {
  "kernelspec": {
   "display_name": "Python 3 (ipykernel)",
   "language": "python",
   "name": "python3"
  },
  "language_info": {
   "codemirror_mode": {
    "name": "ipython",
    "version": 3
   },
   "file_extension": ".py",
   "mimetype": "text/x-python",
   "name": "python",
   "nbconvert_exporter": "python",
   "pygments_lexer": "ipython3",
   "version": "3.13.0"
  }
 },
 "nbformat": 4,
 "nbformat_minor": 5
}
