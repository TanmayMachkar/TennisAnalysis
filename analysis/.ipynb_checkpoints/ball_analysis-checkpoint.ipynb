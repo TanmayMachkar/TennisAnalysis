{
 "cells": [
  {
   "cell_type": "code",
   "execution_count": 59,
   "id": "1871e8d0-0401-4b05-ae52-6de9d15da6e1",
   "metadata": {},
   "outputs": [],
   "source": [
    "import pickle\n",
    "import pandas as pd\n",
    "import matplotlib.pyplot as plt"
   ]
  },
  {
   "cell_type": "code",
   "execution_count": 60,
   "id": "66d15839-13e5-42f8-b5fd-fe6a9a2a2f4c",
   "metadata": {},
   "outputs": [],
   "source": [
    "# read the pickle file\n",
    "with open('../tracker_stubs/ball_detections.pkl', 'rb') as f:\n",
    "    ball_positions = pickle.load(f)"
   ]
  },
  {
   "cell_type": "code",
   "execution_count": 61,
   "id": "5025d9e4-b2bd-4e92-b36d-3a12f9650223",
   "metadata": {},
   "outputs": [],
   "source": [
    "ball_positions = [x.get(1, []) for x in ball_positions] # the list will be empty when there are no detections\n",
    "df_ball_positions = pd.DataFrame(ball_positions, columns = ['x1', 'y1', 'x2', 'y2'])\n",
    "\n",
    "# interpolate the missing values\n",
    "df_ball_positions = df_ball_positions.interpolate()\n",
    "df_ball_positions = df_ball_positions.bfill() # prevents interpolating first frame"
   ]
  },
  {
   "cell_type": "code",
   "execution_count": 62,
   "id": "f0be8d41-cd80-4382-aeb2-ceec9abcf709",
   "metadata": {},
   "outputs": [
    {
     "data": {
      "text/html": [
       "<div>\n",
       "<style scoped>\n",
       "    .dataframe tbody tr th:only-of-type {\n",
       "        vertical-align: middle;\n",
       "    }\n",
       "\n",
       "    .dataframe tbody tr th {\n",
       "        vertical-align: top;\n",
       "    }\n",
       "\n",
       "    .dataframe thead th {\n",
       "        text-align: right;\n",
       "    }\n",
       "</style>\n",
       "<table border=\"1\" class=\"dataframe\">\n",
       "  <thead>\n",
       "    <tr style=\"text-align: right;\">\n",
       "      <th></th>\n",
       "      <th>x1</th>\n",
       "      <th>y1</th>\n",
       "      <th>x2</th>\n",
       "      <th>y2</th>\n",
       "    </tr>\n",
       "  </thead>\n",
       "  <tbody>\n",
       "    <tr>\n",
       "      <th>0</th>\n",
       "      <td>892.720459</td>\n",
       "      <td>615.906555</td>\n",
       "      <td>911.336060</td>\n",
       "      <td>636.187561</td>\n",
       "    </tr>\n",
       "    <tr>\n",
       "      <th>1</th>\n",
       "      <td>892.720459</td>\n",
       "      <td>615.906555</td>\n",
       "      <td>911.336060</td>\n",
       "      <td>636.187561</td>\n",
       "    </tr>\n",
       "    <tr>\n",
       "      <th>2</th>\n",
       "      <td>878.350928</td>\n",
       "      <td>630.013708</td>\n",
       "      <td>896.637012</td>\n",
       "      <td>650.013782</td>\n",
       "    </tr>\n",
       "    <tr>\n",
       "      <th>3</th>\n",
       "      <td>863.981396</td>\n",
       "      <td>644.120862</td>\n",
       "      <td>881.937964</td>\n",
       "      <td>663.840002</td>\n",
       "    </tr>\n",
       "    <tr>\n",
       "      <th>4</th>\n",
       "      <td>849.611865</td>\n",
       "      <td>658.228015</td>\n",
       "      <td>867.238916</td>\n",
       "      <td>677.666223</td>\n",
       "    </tr>\n",
       "    <tr>\n",
       "      <th>...</th>\n",
       "      <td>...</td>\n",
       "      <td>...</td>\n",
       "      <td>...</td>\n",
       "      <td>...</td>\n",
       "    </tr>\n",
       "    <tr>\n",
       "      <th>209</th>\n",
       "      <td>1188.963119</td>\n",
       "      <td>248.454861</td>\n",
       "      <td>1197.876778</td>\n",
       "      <td>258.497332</td>\n",
       "    </tr>\n",
       "    <tr>\n",
       "      <th>210</th>\n",
       "      <td>1185.300293</td>\n",
       "      <td>235.130005</td>\n",
       "      <td>1193.912476</td>\n",
       "      <td>244.928024</td>\n",
       "    </tr>\n",
       "    <tr>\n",
       "      <th>211</th>\n",
       "      <td>1183.682068</td>\n",
       "      <td>225.285629</td>\n",
       "      <td>1192.741211</td>\n",
       "      <td>236.298759</td>\n",
       "    </tr>\n",
       "    <tr>\n",
       "      <th>212</th>\n",
       "      <td>1182.063843</td>\n",
       "      <td>215.441254</td>\n",
       "      <td>1191.569946</td>\n",
       "      <td>227.669495</td>\n",
       "    </tr>\n",
       "    <tr>\n",
       "      <th>213</th>\n",
       "      <td>1182.083740</td>\n",
       "      <td>209.032471</td>\n",
       "      <td>1190.615723</td>\n",
       "      <td>218.541138</td>\n",
       "    </tr>\n",
       "  </tbody>\n",
       "</table>\n",
       "<p>214 rows × 4 columns</p>\n",
       "</div>"
      ],
      "text/plain": [
       "              x1          y1           x2          y2\n",
       "0     892.720459  615.906555   911.336060  636.187561\n",
       "1     892.720459  615.906555   911.336060  636.187561\n",
       "2     878.350928  630.013708   896.637012  650.013782\n",
       "3     863.981396  644.120862   881.937964  663.840002\n",
       "4     849.611865  658.228015   867.238916  677.666223\n",
       "..           ...         ...          ...         ...\n",
       "209  1188.963119  248.454861  1197.876778  258.497332\n",
       "210  1185.300293  235.130005  1193.912476  244.928024\n",
       "211  1183.682068  225.285629  1192.741211  236.298759\n",
       "212  1182.063843  215.441254  1191.569946  227.669495\n",
       "213  1182.083740  209.032471  1190.615723  218.541138\n",
       "\n",
       "[214 rows x 4 columns]"
      ]
     },
     "execution_count": 62,
     "metadata": {},
     "output_type": "execute_result"
    }
   ],
   "source": [
    "df_ball_positions"
   ]
  },
  {
   "cell_type": "code",
   "execution_count": 63,
   "id": "a3850e9e-1a6b-4370-b265-483a5042b3ec",
   "metadata": {},
   "outputs": [],
   "source": [
    "# get center coordinate of ball\n",
    "df_ball_positions['mid_y'] = (df_ball_positions['y1'] + df_ball_positions['y2']) / 2\n",
    "df_ball_positions['mid_y_rolling_mean'] = df_ball_positions['mid_y'].rolling(window = 5, min_periods = 1, center = False).mean() # remove outliers"
   ]
  },
  {
   "cell_type": "code",
   "execution_count": 64,
   "id": "b0f78fb5-8117-4a14-a4f0-daab447db061",
   "metadata": {},
   "outputs": [
    {
     "data": {
      "text/plain": [
       "[<matplotlib.lines.Line2D at 0x22929fb2990>]"
      ]
     },
     "execution_count": 64,
     "metadata": {},
     "output_type": "execute_result"
    },
    {
     "data": {
      "image/png": "[encoded data removed]",
      "text/plain": [
       "<Figure size 640x480 with 1 Axes>"
      ]
     },
     "metadata": {},
     "output_type": "display_data"
    }
   ],
   "source": [
    "# plot mid_y_rolling_mean\n",
    "plt.plot(df_ball_positions['mid_y_rolling_mean'])"
   ]
  },
  {
   "cell_type": "code",
   "execution_count": 65,
   "id": "42a9ca3b-a425-4603-aa1a-4bc52237ee27",
   "metadata": {},
   "outputs": [],
   "source": [
    "# the point where y changes abruptly (either increases or decreases) is the point where ball is being hit by the racket"
   ]
  },
  {
   "cell_type": "code",
   "execution_count": 66,
   "id": "4008bc74-681b-4b52-a5e7-55efb4df4c12",
   "metadata": {},
   "outputs": [],
   "source": [
    "# identify when the y changes\n",
    "df_ball_positions['delta_y'] = df_ball_positions['mid_y_rolling_mean'].diff() # calculates diff btwn consecutive rows"
   ]
  },
  {
   "cell_type": "code",
   "execution_count": 67,
   "id": "e9206521-4825-4ecb-a558-99a224044a4d",
   "metadata": {},
   "outputs": [
    {
     "data": {
      "text/plain": [
       "[<matplotlib.lines.Line2D at 0x2292a054050>]"
      ]
     },
     "execution_count": 67,
     "metadata": {},
     "output_type": "execute_result"
    },
    {
     "data": {
      "image/png": "[encoded data removed]",
      "text/plain": [
       "<Figure size 640x480 with 1 Axes>"
      ]
     },
     "metadata": {},
     "output_type": "display_data"
    }
   ],
   "source": [
    "# plot mid_y_rolling_mean\n",
    "plt.plot(df_ball_positions['delta_y'])"
   ]
  },
  {
   "cell_type": "code",
   "execution_count": 68,
   "id": "a1c4752c-cd9a-40b0-bfb6-2f95b0bae6d9",
   "metadata": {},
   "outputs": [],
   "source": [
    "df_ball_positions['ball_hit'] = 0"
   ]
  },
  {
   "cell_type": "code",
   "execution_count": 69,
   "id": "5ab54187-12db-4370-9c68-b02457efc066",
   "metadata": {},
   "outputs": [
    {
     "name": "stderr",
     "output_type": "stream",
     "text": [
      "C:\\Users\\tanma\\AppData\\Local\\Temp\\ipykernel_4668\\1220799590.py:18: FutureWarning: ChainedAssignmentError: behaviour will change in pandas 3.0!\n",
      "You are setting values through chained assignment. Currently this works in certain cases, but when using Copy-on-Write (which will become the default behaviour in pandas 3.0) this will never work to update the original DataFrame or Series, because the intermediate object on which we are setting values will behave as a copy.\n",
      "A typical example is when you are setting values in a column of a DataFrame, like:\n",
      "\n",
      "df[\"col\"][row_indexer] = value\n",
      "\n",
      "Use `df.loc[row_indexer, \"col\"] = values` instead, to perform the assignment in a single step and ensure this keeps updating the original `df`.\n",
      "\n",
      "See the caveats in the documentation: https://pandas.pydata.org/pandas-docs/stable/user_guide/indexing.html#returning-a-view-versus-a-copy\n",
      "\n",
      "  df_ball_positions['ball_hit'].iloc[i] = 1 # If enough frames (≥ 25) show the direction has changed and stayed changed, it flags the frame i as a ball hit.\n",
      "C:\\Users\\tanma\\AppData\\Local\\Temp\\ipykernel_4668\\1220799590.py:18: SettingWithCopyWarning: \n",
      "A value is trying to be set on a copy of a slice from a DataFrame\n",
      "\n",
      "See the caveats in the documentation: https://pandas.pydata.org/pandas-docs/stable/user_guide/indexing.html#returning-a-view-versus-a-copy\n",
      "  df_ball_positions['ball_hit'].iloc[i] = 1 # If enough frames (≥ 25) show the direction has changed and stayed changed, it flags the frame i as a ball hit.\n",
      "C:\\Users\\tanma\\AppData\\Local\\Temp\\ipykernel_4668\\1220799590.py:18: FutureWarning: ChainedAssignmentError: behaviour will change in pandas 3.0!\n",
      "You are setting values through chained assignment. Currently this works in certain cases, but when using Copy-on-Write (which will become the default behaviour in pandas 3.0) this will never work to update the original DataFrame or Series, because the intermediate object on which we are setting values will behave as a copy.\n",
      "A typical example is when you are setting values in a column of a DataFrame, like:\n",
      "\n",
      "df[\"col\"][row_indexer] = value\n",
      "\n",
      "Use `df.loc[row_indexer, \"col\"] = values` instead, to perform the assignment in a single step and ensure this keeps updating the original `df`.\n",
      "\n",
      "See the caveats in the documentation: https://pandas.pydata.org/pandas-docs/stable/user_guide/indexing.html#returning-a-view-versus-a-copy\n",
      "\n",
      "  df_ball_positions['ball_hit'].iloc[i] = 1 # If enough frames (≥ 25) show the direction has changed and stayed changed, it flags the frame i as a ball hit.\n",
      "C:\\Users\\tanma\\AppData\\Local\\Temp\\ipykernel_4668\\1220799590.py:18: SettingWithCopyWarning: \n",
      "A value is trying to be set on a copy of a slice from a DataFrame\n",
      "\n",
      "See the caveats in the documentation: https://pandas.pydata.org/pandas-docs/stable/user_guide/indexing.html#returning-a-view-versus-a-copy\n",
      "  df_ball_positions['ball_hit'].iloc[i] = 1 # If enough frames (≥ 25) show the direction has changed and stayed changed, it flags the frame i as a ball hit.\n",
      "C:\\Users\\tanma\\AppData\\Local\\Temp\\ipykernel_4668\\1220799590.py:18: FutureWarning: ChainedAssignmentError: behaviour will change in pandas 3.0!\n",
      "You are setting values through chained assignment. Currently this works in certain cases, but when using Copy-on-Write (which will become the default behaviour in pandas 3.0) this will never work to update the original DataFrame or Series, because the intermediate object on which we are setting values will behave as a copy.\n",
      "A typical example is when you are setting values in a column of a DataFrame, like:\n",
      "\n",
      "df[\"col\"][row_indexer] = value\n",
      "\n",
      "Use `df.loc[row_indexer, \"col\"] = values` instead, to perform the assignment in a single step and ensure this keeps updating the original `df`.\n",
      "\n",
      "See the caveats in the documentation: https://pandas.pydata.org/pandas-docs/stable/user_guide/indexing.html#returning-a-view-versus-a-copy\n",
      "\n",
      "  df_ball_positions['ball_hit'].iloc[i] = 1 # If enough frames (≥ 25) show the direction has changed and stayed changed, it flags the frame i as a ball hit.\n",
      "C:\\Users\\tanma\\AppData\\Local\\Temp\\ipykernel_4668\\1220799590.py:18: SettingWithCopyWarning: \n",
      "A value is trying to be set on a copy of a slice from a DataFrame\n",
      "\n",
      "See the caveats in the documentation: https://pandas.pydata.org/pandas-docs/stable/user_guide/indexing.html#returning-a-view-versus-a-copy\n",
      "  df_ball_positions['ball_hit'].iloc[i] = 1 # If enough frames (≥ 25) show the direction has changed and stayed changed, it flags the frame i as a ball hit.\n",
      "C:\\Users\\tanma\\AppData\\Local\\Temp\\ipykernel_4668\\1220799590.py:18: FutureWarning: ChainedAssignmentError: behaviour will change in pandas 3.0!\n",
      "You are setting values through chained assignment. Currently this works in certain cases, but when using Copy-on-Write (which will become the default behaviour in pandas 3.0) this will never work to update the original DataFrame or Series, because the intermediate object on which we are setting values will behave as a copy.\n",
      "A typical example is when you are setting values in a column of a DataFrame, like:\n",
      "\n",
      "df[\"col\"][row_indexer] = value\n",
      "\n",
      "Use `df.loc[row_indexer, \"col\"] = values` instead, to perform the assignment in a single step and ensure this keeps updating the original `df`.\n",
      "\n",
      "See the caveats in the documentation: https://pandas.pydata.org/pandas-docs/stable/user_guide/indexing.html#returning-a-view-versus-a-copy\n",
      "\n",
      "  df_ball_positions['ball_hit'].iloc[i] = 1 # If enough frames (≥ 25) show the direction has changed and stayed changed, it flags the frame i as a ball hit.\n",
      "C:\\Users\\tanma\\AppData\\Local\\Temp\\ipykernel_4668\\1220799590.py:18: SettingWithCopyWarning: \n",
      "A value is trying to be set on a copy of a slice from a DataFrame\n",
      "\n",
      "See the caveats in the documentation: https://pandas.pydata.org/pandas-docs/stable/user_guide/indexing.html#returning-a-view-versus-a-copy\n",
      "  df_ball_positions['ball_hit'].iloc[i] = 1 # If enough frames (≥ 25) show the direction has changed and stayed changed, it flags the frame i as a ball hit.\n",
      "C:\\Users\\tanma\\AppData\\Local\\Temp\\ipykernel_4668\\1220799590.py:18: FutureWarning: ChainedAssignmentError: behaviour will change in pandas 3.0!\n",
      "You are setting values through chained assignment. Currently this works in certain cases, but when using Copy-on-Write (which will become the default behaviour in pandas 3.0) this will never work to update the original DataFrame or Series, because the intermediate object on which we are setting values will behave as a copy.\n",
      "A typical example is when you are setting values in a column of a DataFrame, like:\n",
      "\n",
      "df[\"col\"][row_indexer] = value\n",
      "\n",
      "Use `df.loc[row_indexer, \"col\"] = values` instead, to perform the assignment in a single step and ensure this keeps updating the original `df`.\n",
      "\n",
      "See the caveats in the documentation: https://pandas.pydata.org/pandas-docs/stable/user_guide/indexing.html#returning-a-view-versus-a-copy\n",
      "\n",
      "  df_ball_positions['ball_hit'].iloc[i] = 1 # If enough frames (≥ 25) show the direction has changed and stayed changed, it flags the frame i as a ball hit.\n",
      "C:\\Users\\tanma\\AppData\\Local\\Temp\\ipykernel_4668\\1220799590.py:18: SettingWithCopyWarning: \n",
      "A value is trying to be set on a copy of a slice from a DataFrame\n",
      "\n",
      "See the caveats in the documentation: https://pandas.pydata.org/pandas-docs/stable/user_guide/indexing.html#returning-a-view-versus-a-copy\n",
      "  df_ball_positions['ball_hit'].iloc[i] = 1 # If enough frames (≥ 25) show the direction has changed and stayed changed, it flags the frame i as a ball hit.\n"
     ]
    }
   ],
   "source": [
    "minimum_change_frames_for_hit = 25 # approx number of frames for which there was no abrupt change in ball direction\n",
    "for i in range(1, len(df_ball_positions) - int(minimum_change_frames_for_hit * 1.2)): # 1.2 = increase by 20%\n",
    "    negative_position_change = df_ball_positions['delta_y'].iloc[i] > 0 and df_ball_positions['delta_y'].iloc[i+1] < 0 # first increasing and then decreasing\n",
    "    positive_position_change = df_ball_positions['delta_y'].iloc[i] < 0 and df_ball_positions['delta_y'].iloc[i+1] > 0 # first decreasing and then increasing\n",
    "\n",
    "    if negative_position_change or positive_position_change:\n",
    "        change_count = 0 # keeps track of how many frames the change goes on for\n",
    "        for change_frame in range(i + 1, i + int(minimum_change_frames_for_hit * 1.2) + 1):\n",
    "            negative_position_change_following_frame = df_ball_positions['delta_y'].iloc[i] > 0 and df_ball_positions['delta_y'].iloc[change_frame] < 0 # compare original frame with future frames\n",
    "            positive_position_change_following_frame = df_ball_positions['delta_y'].iloc[i] < 0 and df_ball_positions['delta_y'].iloc[change_frame] > 0\n",
    "\n",
    "            if negative_position_change and negative_position_change_following_frame:\n",
    "                change_count += 1\n",
    "            elif positive_position_change and positive_position_change_following_frame:\n",
    "                change_count += 1\n",
    "\n",
    "        if change_count>minimum_change_frames_for_hit-1:\n",
    "            df_ball_positions['ball_hit'].iloc[i] = 1 # If enough frames (≥ 25) show the direction has changed and stayed changed, it flags the frame i as a ball hit.\n",
    "frame_nums_with_ball_hits = df_ball_positions[df_ball_positions['ball_hit'] == 1].index.tolist()"
   ]
  },
  {
   "cell_type": "code",
   "execution_count": 70,
   "id": "a296a902-0fe7-4d6f-b24d-b604e56dde82",
   "metadata": {},
   "outputs": [
    {
     "data": {
      "text/html": [
       "<div>\n",
       "<style scoped>\n",
       "    .dataframe tbody tr th:only-of-type {\n",
       "        vertical-align: middle;\n",
       "    }\n",
       "\n",
       "    .dataframe tbody tr th {\n",
       "        vertical-align: top;\n",
       "    }\n",
       "\n",
       "    .dataframe thead th {\n",
       "        text-align: right;\n",
       "    }\n",
       "</style>\n",
       "<table border=\"1\" class=\"dataframe\">\n",
       "  <thead>\n",
       "    <tr style=\"text-align: right;\">\n",
       "      <th></th>\n",
       "      <th>x1</th>\n",
       "      <th>y1</th>\n",
       "      <th>x2</th>\n",
       "      <th>y2</th>\n",
       "      <th>mid_y</th>\n",
       "      <th>mid_y_rolling_mean</th>\n",
       "      <th>delta_y</th>\n",
       "      <th>ball_hit</th>\n",
       "    </tr>\n",
       "  </thead>\n",
       "  <tbody>\n",
       "    <tr>\n",
       "      <th>11</th>\n",
       "      <td>778.221924</td>\n",
       "      <td>717.782410</td>\n",
       "      <td>796.419312</td>\n",
       "      <td>738.028748</td>\n",
       "      <td>727.905579</td>\n",
       "      <td>736.812653</td>\n",
       "      <td>6.405017</td>\n",
       "      <td>1</td>\n",
       "    </tr>\n",
       "    <tr>\n",
       "      <th>58</th>\n",
       "      <td>926.669275</td>\n",
       "      <td>243.490701</td>\n",
       "      <td>936.256641</td>\n",
       "      <td>254.049216</td>\n",
       "      <td>248.769958</td>\n",
       "      <td>245.881316</td>\n",
       "      <td>-2.159865</td>\n",
       "      <td>1</td>\n",
       "    </tr>\n",
       "    <tr>\n",
       "      <th>95</th>\n",
       "      <td>624.546509</td>\n",
       "      <td>749.446106</td>\n",
       "      <td>641.117157</td>\n",
       "      <td>766.843811</td>\n",
       "      <td>758.144958</td>\n",
       "      <td>775.608555</td>\n",
       "      <td>0.773283</td>\n",
       "      <td>1</td>\n",
       "    </tr>\n",
       "    <tr>\n",
       "      <th>135</th>\n",
       "      <td>751.359802</td>\n",
       "      <td>233.522507</td>\n",
       "      <td>759.471924</td>\n",
       "      <td>243.000137</td>\n",
       "      <td>238.261322</td>\n",
       "      <td>238.742655</td>\n",
       "      <td>-0.240667</td>\n",
       "      <td>1</td>\n",
       "    </tr>\n",
       "    <tr>\n",
       "      <th>182</th>\n",
       "      <td>1294.820923</td>\n",
       "      <td>741.348267</td>\n",
       "      <td>1311.882935</td>\n",
       "      <td>759.578247</td>\n",
       "      <td>750.463257</td>\n",
       "      <td>737.828592</td>\n",
       "      <td>5.389325</td>\n",
       "      <td>1</td>\n",
       "    </tr>\n",
       "  </tbody>\n",
       "</table>\n",
       "</div>"
      ],
      "text/plain": [
       "              x1          y1           x2          y2       mid_y  \\\n",
       "11    778.221924  717.782410   796.419312  738.028748  727.905579   \n",
       "58    926.669275  243.490701   936.256641  254.049216  248.769958   \n",
       "95    624.546509  749.446106   641.117157  766.843811  758.144958   \n",
       "135   751.359802  233.522507   759.471924  243.000137  238.261322   \n",
       "182  1294.820923  741.348267  1311.882935  759.578247  750.463257   \n",
       "\n",
       "     mid_y_rolling_mean   delta_y  ball_hit  \n",
       "11           736.812653  6.405017         1  \n",
       "58           245.881316 -2.159865         1  \n",
       "95           775.608555  0.773283         1  \n",
       "135          238.742655 -0.240667         1  \n",
       "182          737.828592  5.389325         1  "
      ]
     },
     "execution_count": 70,
     "metadata": {},
     "output_type": "execute_result"
    }
   ],
   "source": [
    "df_ball_positions[df_ball_positions['ball_hit'] == 1]"
   ]
  },
  {
   "cell_type": "code",
   "execution_count": null,
   "id": "b36b5f41-d876-4aa9-a238-29f0143214cb",
   "metadata": {},
   "outputs": [],
   "source": []
  }
 ],
 "metadata": {
  "kernelspec": {
   "display_name": "Python 3 (ipykernel)",
   "language": "python",
   "name": "python3"
  },
  "language_info": {
   "codemirror_mode": {
    "name": "ipython",
    "version": 3
   },
   "file_extension": ".py",
   "mimetype": "text/x-python",
   "name": "python",
   "nbconvert_exporter": "python",
   "pygments_lexer": "ipython3",
   "version": "3.13.5"
  }
 },
 "nbformat": 4,
 "nbformat_minor": 5
}
